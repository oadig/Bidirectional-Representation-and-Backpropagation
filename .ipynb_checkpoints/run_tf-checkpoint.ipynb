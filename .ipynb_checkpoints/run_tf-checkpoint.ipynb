{
 "cells": [
  {
   "cell_type": "markdown",
   "id": "9ee256d5-e7cf-47e5-875d-da059e8768d9",
   "metadata": {},
   "source": [
    "## Bidirectional Neural Representation:"
   ]
  },
  {
   "cell_type": "code",
   "execution_count": 1,
   "id": "e840d94e-460e-4844-baa9-6af633f5f6c7",
   "metadata": {},
   "outputs": [
    {
     "name": "stderr",
     "output_type": "stream",
     "text": [
      "2024-09-03 00:04:19.631206: I tensorflow/core/platform/cpu_feature_guard.cc:210] This TensorFlow binary is optimized to use available CPU instructions in performance-critical operations.\n",
      "To enable the following instructions: AVX2 FMA, in other operations, rebuild TensorFlow with the appropriate compiler flags.\n",
      "2024-09-03 00:04:20.683071: W tensorflow/compiler/tf2tensorrt/utils/py_utils.cc:38] TF-TRT Warning: Could not find TensorRT\n"
     ]
    }
   ],
   "source": [
    "# Import libraries\n",
    "import tensorflow as tf\n",
    "import numpy as np\n",
    "import matplotlib.pyplot as plt\n",
    "\n",
    "tf.compat.v1.disable_eager_execution()"
   ]
  },
  {
   "cell_type": "code",
   "execution_count": null,
   "id": "de05d88f-1426-4b43-be0b-58fc2eaa4b80",
   "metadata": {},
   "outputs": [],
   "source": []
  },
  {
   "cell_type": "markdown",
   "id": "74416dad-d250-4345-b4e2-7803be2ad698",
   "metadata": {},
   "source": [
    "##### Bipolar permutation function $f: \\{-1,1\\}^n \\rightarrow \\{-1, 1\\}^n$\n",
    "##### Binary permutation function $f : \\{0,1\\}^n \\rightarrow \\{0, 1\\}^n$"
   ]
  },
  {
   "cell_type": "code",
   "execution_count": 2,
   "id": "3f9d1580-99f7-4d31-84be-5c499baf8be5",
   "metadata": {},
   "outputs": [],
   "source": [
    "# 3-bit and 4-bit bipolar permutation\n",
    "def get_data(data_type = \"3_bits\"):\n",
    "    \"\"\"\n",
    "    Generate the training dataset for a pre-defined \n",
    "    3-bit or 4-bit permutation function\n",
    "    \"\"\"\n",
    "    \n",
    "    if data_type == \"3_bits\":\n",
    "        x = np.array([\n",
    "            [1,1,1], [1,1,-1], [1,-1,1], [1,-1,-1],\n",
    "            [-1,1,1], [-1,1,-1], [-1,-1,1], [-1,-1,-1]])\n",
    "        y = x[[6,4,2,0,7,5,3,1]]      \n",
    "    elif data_type == \"4_bits\":\n",
    "        x = np.array([\n",
    "            [-1,-1,-1,-1],[-1,-1,-1,1],[-1,-1,1,-1],[-1,-1,1,1],\n",
    "            [-1,1,-1,-1],[-1,1,-1,1],[-1,1,1,-1],[-1,1,1,1],\n",
    "            [1,-1,-1,-1],[1,-1,-1,1],[1,-1,1,-1],[1,-1,1,1],\n",
    "            [1,1,-1,-1],[1,1,-1,1],[1,1,1,-1],[1,1,1,1]])\n",
    "        y = x[[12, 14, 15, 13, 9, 5, 8, 4, 11, 7, 10, 6, 2, 0, 1, 3]]\n",
    "    else:\n",
    "        raise ValueError(\"Wrong input!!! Data type should be 3_bits or 4_bits\")\n",
    "    return x, y"
   ]
  },
  {
   "cell_type": "code",
   "execution_count": 3,
   "id": "8ea03257-5e9c-4b76-afbb-4a64a4870448",
   "metadata": {},
   "outputs": [],
   "source": [
    "data_type = \"3_bits\"  # \"4_bit\"\n",
    "num_hidden_neurons = 4\n",
    "mode = 'binary'  # \"bipolar\""
   ]
  },
  {
   "cell_type": "code",
   "execution_count": 4,
   "id": "f0d9c2f3-f3ed-4bed-81f9-71a569096234",
   "metadata": {},
   "outputs": [],
   "source": [
    "X, Y = get_data(data_type)\n",
    "if mode == 'binary':\n",
    "  X = 0.5 * (X+1)\n",
    "  Y = 0.5 * (Y+1)"
   ]
  },
  {
   "cell_type": "markdown",
   "id": "a745c2e3-eb14-4be9-a7c8-18108a296f3a",
   "metadata": {},
   "source": [
    "###### Network Architecture: Input layer <--> Hidden Layer <--> Output Layer"
   ]
  },
  {
   "cell_type": "code",
   "execution_count": 11,
   "id": "0e8a3aca-e5f6-44b1-8ccc-6292f17d92e2",
   "metadata": {},
   "outputs": [],
   "source": [
    "## Define the Placeholders !!!\n",
    "xf = tf.compat.v1.placeholder(tf.float32, [None, X.shape[1]], name = 'input_forward')\n",
    "yf = tf.compat.v1.placeholder(tf.float32, [None, Y.shape[1]], name = 'target_forward')\n",
    "\n",
    "xb = tf.compat.v1.placeholder(tf.float32, [None, X.shape[1]], name = 'input_backward')\n",
    "yb = tf.compat.v1.placeholder(tf.float32, [None, Y.shape[1]], name = 'target_backward')"
   ]
  },
  {
   "cell_type": "code",
   "execution_count": 12,
   "id": "45fcd3c1-6f84-4c42-b175-adf933b35db5",
   "metadata": {},
   "outputs": [],
   "source": [
    "## Initialize weight\n",
    "wgts = {}\n",
    "wgts['U'] = tf.Variable(\n",
    "    tf.compat.v1.random_normal(\n",
    "        [X.shape[1], num_hidden_neurons], \n",
    "        stddev = 1.0)\n",
    "    )\n",
    "wgts['W'] = tf.Variable(\n",
    "    tf.compat.v1.random_normal(\n",
    "        [Y.shape[1], num_hidden_neurons], \n",
    "        stddev = 1.0)\n",
    "    )"
   ]
  },
  {
   "cell_type": "code",
   "execution_count": 13,
   "id": "6e9d1559-7939-4f60-a7f8-cb5c8df7e5cc",
   "metadata": {},
   "outputs": [],
   "source": [
    "# Forward Pass\n",
    "ah_f = tf.nn.sigmoid(tf.matmul(xf, wgts['U']))\n",
    "oy_f = tf.matmul(ah_f, tf.transpose(wgts['W']))\n",
    "ay_f = oy_f\n",
    "\n",
    "# Backward Pass\n",
    "ah_b = tf.nn.sigmoid(tf.matmul(yb, wgts['W']))\n",
    "ox_b = tf.matmul(ah_b, tf.transpose(wgts['U']))\n",
    "ax_b = ox_b"
   ]
  },
  {
   "cell_type": "code",
   "execution_count": 16,
   "id": "8137d894-71e8-4e1a-b3db-39c8be74bd62",
   "metadata": {},
   "outputs": [],
   "source": [
    "# Define the loss function and optimizer\n",
    "with tf.device('/device:GPU:0'):\n",
    "  if mode == \"binary\":\n",
    "    loss_f = tf.reduce_mean(\n",
    "        tf.nn.sigmoid_cross_entropy_with_logits(labels = yf, logits =  ay_f))\n",
    "    loss_b = tf.reduce_mean(\n",
    "        tf.nn.sigmoid_cross_entropy_with_logits(labels = xb, logits =  ax_b))\n",
    "  \n",
    "  elif mode == \"bipolar\":\n",
    "    yf_ = 0.5 * (yf + 1.0)\n",
    "    xb_ = 0.5 * (xb + 1.0)\n",
    "    loss_f = tf.reduce_mean(\n",
    "        tf.maximum(2*ay_f, 0)-(2*ay_f*yf_) + tf.math.log(1 + tf.exp(-tf.abs(2*ay_f)))\n",
    "        )\n",
    "    loss_b = tf.reduce_mean(\n",
    "        tf.maximum(2*ax_b, 0)-(2*ax_b*xb_) + tf.math.log(1 + tf.exp(-tf.abs(2*ax_b)))\n",
    "        )\n",
    "  loss = loss_f + loss_b\n",
    "  optimizer = tf.compat.v1.train.GradientDescentOptimizer(\n",
    "        learning_rate = 0.5).minimize(loss)"
   ]
  },
  {
   "cell_type": "code",
   "execution_count": 17,
   "id": "816fbcea-9980-4b39-a72d-893495b9da98",
   "metadata": {},
   "outputs": [
    {
     "name": "stderr",
     "output_type": "stream",
     "text": [
      "2024-09-03 00:18:56.278595: W tensorflow/core/common_runtime/gpu/gpu_device.cc:2251] Cannot dlopen some GPU libraries. Please make sure the missing libraries mentioned above are installed properly if you would like to use GPU. Follow the guide at https://www.tensorflow.org/install/gpu for how to download and setup the required libraries for your platform.\n",
      "Skipping registering GPU devices...\n",
      "2024-09-03 00:18:56.284551: I tensorflow/compiler/mlir/mlir_graph_optimization_pass.cc:388] MLIR V1 optimization pass is not enabled\n"
     ]
    },
    {
     "ename": "InvalidArgumentError",
     "evalue": "Graph execution error:\n\nDetected at node 'logistic_loss/zeros_like' defined at (most recent call last):\n    File \"/spack/apps/linux-centos7-x86_64/gcc-8.3.0/python-3.9.2-uvcroioc4witkp6qf7mbebof5ix4wlb6/lib/python3.9/runpy.py\", line 197, in _run_module_as_main\n    File \"/spack/apps/linux-centos7-x86_64/gcc-8.3.0/python-3.9.2-uvcroioc4witkp6qf7mbebof5ix4wlb6/lib/python3.9/runpy.py\", line 87, in _run_code\n    File \"/spack/apps/linux-centos7-x86_64/gcc-8.3.0/python-3.9.2-uvcroioc4witkp6qf7mbebof5ix4wlb6/lib/python3.9/site-packages/ipykernel_launcher.py\", line 16, in <module>\n    File \"/spack/apps/linux-centos7-x86_64/gcc-8.3.0/python-3.9.2-uvcroioc4witkp6qf7mbebof5ix4wlb6/lib/python3.9/site-packages/traitlets/config/application.py\", line 846, in launch_instance\n    File \"/spack/apps/linux-centos7-x86_64/gcc-8.3.0/python-3.9.2-uvcroioc4witkp6qf7mbebof5ix4wlb6/lib/python3.9/site-packages/ipykernel/kernelapp.py\", line 677, in start\n    File \"/spack/apps/linux-centos7-x86_64/gcc-8.3.0/python-3.9.2-uvcroioc4witkp6qf7mbebof5ix4wlb6/lib/python3.9/site-packages/tornado/platform/asyncio.py\", line 199, in start\n    File \"/spack/apps/linux-centos7-x86_64/gcc-8.3.0/python-3.9.2-uvcroioc4witkp6qf7mbebof5ix4wlb6/lib/python3.9/asyncio/base_events.py\", line 596, in run_forever\n    File \"/spack/apps/linux-centos7-x86_64/gcc-8.3.0/python-3.9.2-uvcroioc4witkp6qf7mbebof5ix4wlb6/lib/python3.9/asyncio/base_events.py\", line 1890, in _run_once\n    File \"/spack/apps/linux-centos7-x86_64/gcc-8.3.0/python-3.9.2-uvcroioc4witkp6qf7mbebof5ix4wlb6/lib/python3.9/asyncio/events.py\", line 80, in _run\n    File \"/spack/apps/linux-centos7-x86_64/gcc-8.3.0/python-3.9.2-uvcroioc4witkp6qf7mbebof5ix4wlb6/lib/python3.9/site-packages/ipykernel/kernelbase.py\", line 457, in dispatch_queue\n    File \"/spack/apps/linux-centos7-x86_64/gcc-8.3.0/python-3.9.2-uvcroioc4witkp6qf7mbebof5ix4wlb6/lib/python3.9/site-packages/ipykernel/kernelbase.py\", line 446, in process_one\n    File \"/spack/apps/linux-centos7-x86_64/gcc-8.3.0/python-3.9.2-uvcroioc4witkp6qf7mbebof5ix4wlb6/lib/python3.9/site-packages/ipykernel/kernelbase.py\", line 353, in dispatch_shell\n    File \"/spack/apps/linux-centos7-x86_64/gcc-8.3.0/python-3.9.2-uvcroioc4witkp6qf7mbebof5ix4wlb6/lib/python3.9/site-packages/ipykernel/kernelbase.py\", line 648, in execute_request\n    File \"/spack/apps/linux-centos7-x86_64/gcc-8.3.0/python-3.9.2-uvcroioc4witkp6qf7mbebof5ix4wlb6/lib/python3.9/site-packages/ipykernel/ipkernel.py\", line 353, in do_execute\n    File \"/spack/apps/linux-centos7-x86_64/gcc-8.3.0/python-3.9.2-uvcroioc4witkp6qf7mbebof5ix4wlb6/lib/python3.9/site-packages/ipykernel/zmqshell.py\", line 533, in run_cell\n    File \"/spack/apps/linux-centos7-x86_64/gcc-8.3.0/python-3.9.2-uvcroioc4witkp6qf7mbebof5ix4wlb6/lib/python3.9/site-packages/IPython/core/interactiveshell.py\", line 2898, in run_cell\n    File \"/spack/apps/linux-centos7-x86_64/gcc-8.3.0/python-3.9.2-uvcroioc4witkp6qf7mbebof5ix4wlb6/lib/python3.9/site-packages/IPython/core/interactiveshell.py\", line 2944, in _run_cell\n    File \"/spack/apps/linux-centos7-x86_64/gcc-8.3.0/python-3.9.2-uvcroioc4witkp6qf7mbebof5ix4wlb6/lib/python3.9/site-packages/IPython/core/async_helpers.py\", line 68, in _pseudo_sync_runner\n    File \"/spack/apps/linux-centos7-x86_64/gcc-8.3.0/python-3.9.2-uvcroioc4witkp6qf7mbebof5ix4wlb6/lib/python3.9/site-packages/IPython/core/interactiveshell.py\", line 3169, in run_cell_async\n    File \"/spack/apps/linux-centos7-x86_64/gcc-8.3.0/python-3.9.2-uvcroioc4witkp6qf7mbebof5ix4wlb6/lib/python3.9/site-packages/IPython/core/interactiveshell.py\", line 3361, in run_ast_nodes\n    File \"/spack/apps/linux-centos7-x86_64/gcc-8.3.0/python-3.9.2-uvcroioc4witkp6qf7mbebof5ix4wlb6/lib/python3.9/site-packages/IPython/core/interactiveshell.py\", line 3441, in run_code\n    File \"/tmp/SLURM_25316244/ipykernel_11056/2850476263.py\", line 6, in <module>\n    File \"/home1/adigun/.local/lib/python3.9/site-packages/tensorflow/dtensor/python/api.py\", line 64, in call_with_layout\nNode: 'logistic_loss/zeros_like'\nCannot assign a device for operation logistic_loss/zeros_like: {{node logistic_loss/zeros_like}} was explicitly assigned to /device:GPU:0 but available devices are [ /job:localhost/replica:0/task:0/device:CPU:0 ]. Make sure the device specification refers to a valid device.\n\t [[logistic_loss/zeros_like]]",
     "output_type": "error",
     "traceback": [
      "\u001b[0;31m---------------------------------------------------------------------------\u001b[0m",
      "\u001b[0;31mInvalidArgumentError\u001b[0m                      Traceback (most recent call last)",
      "\u001b[0;32m~/.local/lib/python3.9/site-packages/tensorflow/python/client/session.py\u001b[0m in \u001b[0;36m_do_call\u001b[0;34m(self, fn, *args)\u001b[0m\n\u001b[1;32m   1401\u001b[0m     \u001b[0;32mtry\u001b[0m\u001b[0;34m:\u001b[0m\u001b[0;34m\u001b[0m\u001b[0;34m\u001b[0m\u001b[0m\n\u001b[0;32m-> 1402\u001b[0;31m       \u001b[0;32mreturn\u001b[0m \u001b[0mfn\u001b[0m\u001b[0;34m(\u001b[0m\u001b[0;34m*\u001b[0m\u001b[0margs\u001b[0m\u001b[0;34m)\u001b[0m\u001b[0;34m\u001b[0m\u001b[0;34m\u001b[0m\u001b[0m\n\u001b[0m\u001b[1;32m   1403\u001b[0m     \u001b[0;32mexcept\u001b[0m \u001b[0merrors\u001b[0m\u001b[0;34m.\u001b[0m\u001b[0mOpError\u001b[0m \u001b[0;32mas\u001b[0m \u001b[0me\u001b[0m\u001b[0;34m:\u001b[0m\u001b[0;34m\u001b[0m\u001b[0;34m\u001b[0m\u001b[0m\n",
      "\u001b[0;32m~/.local/lib/python3.9/site-packages/tensorflow/python/client/session.py\u001b[0m in \u001b[0;36m_run_fn\u001b[0;34m(feed_dict, fetch_list, target_list, options, run_metadata)\u001b[0m\n\u001b[1;32m   1383\u001b[0m       \u001b[0;31m# Ensure any changes to the graph are reflected in the runtime.\u001b[0m\u001b[0;34m\u001b[0m\u001b[0;34m\u001b[0m\u001b[0;34m\u001b[0m\u001b[0m\n\u001b[0;32m-> 1384\u001b[0;31m       \u001b[0mself\u001b[0m\u001b[0;34m.\u001b[0m\u001b[0m_extend_graph\u001b[0m\u001b[0;34m(\u001b[0m\u001b[0;34m)\u001b[0m\u001b[0;34m\u001b[0m\u001b[0;34m\u001b[0m\u001b[0m\n\u001b[0m\u001b[1;32m   1385\u001b[0m       return self._call_tf_sessionrun(options, feed_dict, fetch_list,\n",
      "\u001b[0;32m~/.local/lib/python3.9/site-packages/tensorflow/python/client/session.py\u001b[0m in \u001b[0;36m_extend_graph\u001b[0;34m(self)\u001b[0m\n\u001b[1;32m   1424\u001b[0m     \u001b[0;32mwith\u001b[0m \u001b[0mself\u001b[0m\u001b[0;34m.\u001b[0m\u001b[0m_graph\u001b[0m\u001b[0;34m.\u001b[0m\u001b[0m_session_run_lock\u001b[0m\u001b[0;34m(\u001b[0m\u001b[0;34m)\u001b[0m\u001b[0;34m:\u001b[0m  \u001b[0;31m# pylint: disable=protected-access\u001b[0m\u001b[0;34m\u001b[0m\u001b[0;34m\u001b[0m\u001b[0m\n\u001b[0;32m-> 1425\u001b[0;31m       \u001b[0mtf_session\u001b[0m\u001b[0;34m.\u001b[0m\u001b[0mExtendSession\u001b[0m\u001b[0;34m(\u001b[0m\u001b[0mself\u001b[0m\u001b[0;34m.\u001b[0m\u001b[0m_session\u001b[0m\u001b[0;34m)\u001b[0m\u001b[0;34m\u001b[0m\u001b[0;34m\u001b[0m\u001b[0m\n\u001b[0m\u001b[1;32m   1426\u001b[0m \u001b[0;34m\u001b[0m\u001b[0m\n",
      "\u001b[0;31mInvalidArgumentError\u001b[0m: Cannot assign a device for operation logistic_loss/zeros_like: {{node logistic_loss/zeros_like}} was explicitly assigned to /device:GPU:0 but available devices are [ /job:localhost/replica:0/task:0/device:CPU:0 ]. Make sure the device specification refers to a valid device.\n\t [[logistic_loss/zeros_like]]",
      "\nDuring handling of the above exception, another exception occurred:\n",
      "\u001b[0;31mInvalidArgumentError\u001b[0m                      Traceback (most recent call last)",
      "\u001b[0;32m/tmp/SLURM_25316244/ipykernel_11056/407977639.py\u001b[0m in \u001b[0;36m<module>\u001b[0;34m\u001b[0m\n\u001b[1;32m      3\u001b[0m \u001b[0;34m\u001b[0m\u001b[0m\n\u001b[1;32m      4\u001b[0m \u001b[0msess\u001b[0m \u001b[0;34m=\u001b[0m \u001b[0mtf\u001b[0m\u001b[0;34m.\u001b[0m\u001b[0mcompat\u001b[0m\u001b[0;34m.\u001b[0m\u001b[0mv1\u001b[0m\u001b[0;34m.\u001b[0m\u001b[0mSession\u001b[0m\u001b[0;34m(\u001b[0m\u001b[0;34m)\u001b[0m\u001b[0;34m\u001b[0m\u001b[0;34m\u001b[0m\u001b[0m\n\u001b[0;32m----> 5\u001b[0;31m \u001b[0msess\u001b[0m\u001b[0;34m.\u001b[0m\u001b[0mrun\u001b[0m\u001b[0;34m(\u001b[0m\u001b[0mtf\u001b[0m\u001b[0;34m.\u001b[0m\u001b[0mcompat\u001b[0m\u001b[0;34m.\u001b[0m\u001b[0mv1\u001b[0m\u001b[0;34m.\u001b[0m\u001b[0mglobal_variables_initializer\u001b[0m\u001b[0;34m(\u001b[0m\u001b[0;34m)\u001b[0m\u001b[0;34m)\u001b[0m\u001b[0;34m\u001b[0m\u001b[0;34m\u001b[0m\u001b[0m\n\u001b[0m",
      "\u001b[0;32m~/.local/lib/python3.9/site-packages/tensorflow/python/client/session.py\u001b[0m in \u001b[0;36mrun\u001b[0;34m(self, fetches, feed_dict, options, run_metadata)\u001b[0m\n\u001b[1;32m    970\u001b[0m \u001b[0;34m\u001b[0m\u001b[0m\n\u001b[1;32m    971\u001b[0m     \u001b[0;32mtry\u001b[0m\u001b[0;34m:\u001b[0m\u001b[0;34m\u001b[0m\u001b[0;34m\u001b[0m\u001b[0m\n\u001b[0;32m--> 972\u001b[0;31m       result = self._run(None, fetches, feed_dict, options_ptr,\n\u001b[0m\u001b[1;32m    973\u001b[0m                          run_metadata_ptr)\n\u001b[1;32m    974\u001b[0m       \u001b[0;32mif\u001b[0m \u001b[0mrun_metadata\u001b[0m\u001b[0;34m:\u001b[0m\u001b[0;34m\u001b[0m\u001b[0;34m\u001b[0m\u001b[0m\n",
      "\u001b[0;32m~/.local/lib/python3.9/site-packages/tensorflow/python/client/session.py\u001b[0m in \u001b[0;36m_run\u001b[0;34m(self, handle, fetches, feed_dict, options, run_metadata)\u001b[0m\n\u001b[1;32m   1213\u001b[0m     \u001b[0;31m# or if the call is a partial run that specifies feeds.\u001b[0m\u001b[0;34m\u001b[0m\u001b[0;34m\u001b[0m\u001b[0;34m\u001b[0m\u001b[0m\n\u001b[1;32m   1214\u001b[0m     \u001b[0;32mif\u001b[0m \u001b[0mfinal_fetches\u001b[0m \u001b[0;32mor\u001b[0m \u001b[0mfinal_targets\u001b[0m \u001b[0;32mor\u001b[0m \u001b[0;34m(\u001b[0m\u001b[0mhandle\u001b[0m \u001b[0;32mand\u001b[0m \u001b[0mfeed_dict_tensor\u001b[0m\u001b[0;34m)\u001b[0m\u001b[0;34m:\u001b[0m\u001b[0;34m\u001b[0m\u001b[0;34m\u001b[0m\u001b[0m\n\u001b[0;32m-> 1215\u001b[0;31m       results = self._do_run(handle, final_targets, final_fetches,\n\u001b[0m\u001b[1;32m   1216\u001b[0m                              feed_dict_tensor, options, run_metadata)\n\u001b[1;32m   1217\u001b[0m     \u001b[0;32melse\u001b[0m\u001b[0;34m:\u001b[0m\u001b[0;34m\u001b[0m\u001b[0;34m\u001b[0m\u001b[0m\n",
      "\u001b[0;32m~/.local/lib/python3.9/site-packages/tensorflow/python/client/session.py\u001b[0m in \u001b[0;36m_do_run\u001b[0;34m(self, handle, target_list, fetch_list, feed_dict, options, run_metadata)\u001b[0m\n\u001b[1;32m   1393\u001b[0m \u001b[0;34m\u001b[0m\u001b[0m\n\u001b[1;32m   1394\u001b[0m     \u001b[0;32mif\u001b[0m \u001b[0mhandle\u001b[0m \u001b[0;32mis\u001b[0m \u001b[0;32mNone\u001b[0m\u001b[0;34m:\u001b[0m\u001b[0;34m\u001b[0m\u001b[0;34m\u001b[0m\u001b[0m\n\u001b[0;32m-> 1395\u001b[0;31m       return self._do_call(_run_fn, feeds, fetches, targets, options,\n\u001b[0m\u001b[1;32m   1396\u001b[0m                            run_metadata)\n\u001b[1;32m   1397\u001b[0m     \u001b[0;32melse\u001b[0m\u001b[0;34m:\u001b[0m\u001b[0;34m\u001b[0m\u001b[0;34m\u001b[0m\u001b[0m\n",
      "\u001b[0;32m~/.local/lib/python3.9/site-packages/tensorflow/python/client/session.py\u001b[0m in \u001b[0;36m_do_call\u001b[0;34m(self, fn, *args)\u001b[0m\n\u001b[1;32m   1419\u001b[0m                     \u001b[0;34m'\\nsession_config.graph_options.rewrite_options.'\u001b[0m\u001b[0;34m\u001b[0m\u001b[0;34m\u001b[0m\u001b[0m\n\u001b[1;32m   1420\u001b[0m                     'disable_meta_optimizer = True')\n\u001b[0;32m-> 1421\u001b[0;31m       \u001b[0;32mraise\u001b[0m \u001b[0mtype\u001b[0m\u001b[0;34m(\u001b[0m\u001b[0me\u001b[0m\u001b[0;34m)\u001b[0m\u001b[0;34m(\u001b[0m\u001b[0mnode_def\u001b[0m\u001b[0;34m,\u001b[0m \u001b[0mop\u001b[0m\u001b[0;34m,\u001b[0m \u001b[0mmessage\u001b[0m\u001b[0;34m)\u001b[0m  \u001b[0;31m# pylint: disable=no-value-for-parameter\u001b[0m\u001b[0;34m\u001b[0m\u001b[0;34m\u001b[0m\u001b[0m\n\u001b[0m\u001b[1;32m   1422\u001b[0m \u001b[0;34m\u001b[0m\u001b[0m\n\u001b[1;32m   1423\u001b[0m   \u001b[0;32mdef\u001b[0m \u001b[0m_extend_graph\u001b[0m\u001b[0;34m(\u001b[0m\u001b[0mself\u001b[0m\u001b[0;34m)\u001b[0m\u001b[0;34m:\u001b[0m\u001b[0;34m\u001b[0m\u001b[0;34m\u001b[0m\u001b[0m\n",
      "\u001b[0;31mInvalidArgumentError\u001b[0m: Graph execution error:\n\nDetected at node 'logistic_loss/zeros_like' defined at (most recent call last):\n    File \"/spack/apps/linux-centos7-x86_64/gcc-8.3.0/python-3.9.2-uvcroioc4witkp6qf7mbebof5ix4wlb6/lib/python3.9/runpy.py\", line 197, in _run_module_as_main\n    File \"/spack/apps/linux-centos7-x86_64/gcc-8.3.0/python-3.9.2-uvcroioc4witkp6qf7mbebof5ix4wlb6/lib/python3.9/runpy.py\", line 87, in _run_code\n    File \"/spack/apps/linux-centos7-x86_64/gcc-8.3.0/python-3.9.2-uvcroioc4witkp6qf7mbebof5ix4wlb6/lib/python3.9/site-packages/ipykernel_launcher.py\", line 16, in <module>\n    File \"/spack/apps/linux-centos7-x86_64/gcc-8.3.0/python-3.9.2-uvcroioc4witkp6qf7mbebof5ix4wlb6/lib/python3.9/site-packages/traitlets/config/application.py\", line 846, in launch_instance\n    File \"/spack/apps/linux-centos7-x86_64/gcc-8.3.0/python-3.9.2-uvcroioc4witkp6qf7mbebof5ix4wlb6/lib/python3.9/site-packages/ipykernel/kernelapp.py\", line 677, in start\n    File \"/spack/apps/linux-centos7-x86_64/gcc-8.3.0/python-3.9.2-uvcroioc4witkp6qf7mbebof5ix4wlb6/lib/python3.9/site-packages/tornado/platform/asyncio.py\", line 199, in start\n    File \"/spack/apps/linux-centos7-x86_64/gcc-8.3.0/python-3.9.2-uvcroioc4witkp6qf7mbebof5ix4wlb6/lib/python3.9/asyncio/base_events.py\", line 596, in run_forever\n    File \"/spack/apps/linux-centos7-x86_64/gcc-8.3.0/python-3.9.2-uvcroioc4witkp6qf7mbebof5ix4wlb6/lib/python3.9/asyncio/base_events.py\", line 1890, in _run_once\n    File \"/spack/apps/linux-centos7-x86_64/gcc-8.3.0/python-3.9.2-uvcroioc4witkp6qf7mbebof5ix4wlb6/lib/python3.9/asyncio/events.py\", line 80, in _run\n    File \"/spack/apps/linux-centos7-x86_64/gcc-8.3.0/python-3.9.2-uvcroioc4witkp6qf7mbebof5ix4wlb6/lib/python3.9/site-packages/ipykernel/kernelbase.py\", line 457, in dispatch_queue\n    File \"/spack/apps/linux-centos7-x86_64/gcc-8.3.0/python-3.9.2-uvcroioc4witkp6qf7mbebof5ix4wlb6/lib/python3.9/site-packages/ipykernel/kernelbase.py\", line 446, in process_one\n    File \"/spack/apps/linux-centos7-x86_64/gcc-8.3.0/python-3.9.2-uvcroioc4witkp6qf7mbebof5ix4wlb6/lib/python3.9/site-packages/ipykernel/kernelbase.py\", line 353, in dispatch_shell\n    File \"/spack/apps/linux-centos7-x86_64/gcc-8.3.0/python-3.9.2-uvcroioc4witkp6qf7mbebof5ix4wlb6/lib/python3.9/site-packages/ipykernel/kernelbase.py\", line 648, in execute_request\n    File \"/spack/apps/linux-centos7-x86_64/gcc-8.3.0/python-3.9.2-uvcroioc4witkp6qf7mbebof5ix4wlb6/lib/python3.9/site-packages/ipykernel/ipkernel.py\", line 353, in do_execute\n    File \"/spack/apps/linux-centos7-x86_64/gcc-8.3.0/python-3.9.2-uvcroioc4witkp6qf7mbebof5ix4wlb6/lib/python3.9/site-packages/ipykernel/zmqshell.py\", line 533, in run_cell\n    File \"/spack/apps/linux-centos7-x86_64/gcc-8.3.0/python-3.9.2-uvcroioc4witkp6qf7mbebof5ix4wlb6/lib/python3.9/site-packages/IPython/core/interactiveshell.py\", line 2898, in run_cell\n    File \"/spack/apps/linux-centos7-x86_64/gcc-8.3.0/python-3.9.2-uvcroioc4witkp6qf7mbebof5ix4wlb6/lib/python3.9/site-packages/IPython/core/interactiveshell.py\", line 2944, in _run_cell\n    File \"/spack/apps/linux-centos7-x86_64/gcc-8.3.0/python-3.9.2-uvcroioc4witkp6qf7mbebof5ix4wlb6/lib/python3.9/site-packages/IPython/core/async_helpers.py\", line 68, in _pseudo_sync_runner\n    File \"/spack/apps/linux-centos7-x86_64/gcc-8.3.0/python-3.9.2-uvcroioc4witkp6qf7mbebof5ix4wlb6/lib/python3.9/site-packages/IPython/core/interactiveshell.py\", line 3169, in run_cell_async\n    File \"/spack/apps/linux-centos7-x86_64/gcc-8.3.0/python-3.9.2-uvcroioc4witkp6qf7mbebof5ix4wlb6/lib/python3.9/site-packages/IPython/core/interactiveshell.py\", line 3361, in run_ast_nodes\n    File \"/spack/apps/linux-centos7-x86_64/gcc-8.3.0/python-3.9.2-uvcroioc4witkp6qf7mbebof5ix4wlb6/lib/python3.9/site-packages/IPython/core/interactiveshell.py\", line 3441, in run_code\n    File \"/tmp/SLURM_25316244/ipykernel_11056/2850476263.py\", line 6, in <module>\n    File \"/home1/adigun/.local/lib/python3.9/site-packages/tensorflow/dtensor/python/api.py\", line 64, in call_with_layout\nNode: 'logistic_loss/zeros_like'\nCannot assign a device for operation logistic_loss/zeros_like: {{node logistic_loss/zeros_like}} was explicitly assigned to /device:GPU:0 but available devices are [ /job:localhost/replica:0/task:0/device:CPU:0 ]. Make sure the device specification refers to a valid device.\n\t [[logistic_loss/zeros_like]]"
     ]
    }
   ],
   "source": [
    "val_f = np.array([])\n",
    "val_b = np.array([])\n",
    "\n",
    "sess = tf.compat.v1.Session()\n",
    "sess.run(tf.compat.v1.global_variables_initializer())"
   ]
  },
  {
   "cell_type": "code",
   "execution_count": null,
   "id": "3b28225f-809e-41e6-8133-396034db3e9b",
   "metadata": {},
   "outputs": [],
   "source": []
  }
 ],
 "metadata": {
  "kernelspec": {
   "display_name": "Python 3.7.6",
   "language": "python",
   "name": "py376"
  },
  "language_info": {
   "codemirror_mode": {
    "name": "ipython",
    "version": 3
   },
   "file_extension": ".py",
   "mimetype": "text/x-python",
   "name": "python",
   "nbconvert_exporter": "python",
   "pygments_lexer": "ipython3",
   "version": "3.7.6"
  }
 },
 "nbformat": 4,
 "nbformat_minor": 5
}
