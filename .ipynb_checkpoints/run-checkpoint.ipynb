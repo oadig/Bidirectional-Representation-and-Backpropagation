{
 "cells": [
  {
   "cell_type": "markdown",
   "id": "19281108-8550-442a-b860-98ff533f7dd2",
   "metadata": {},
   "source": [
    "## Search for hidden layer size"
   ]
  },
  {
   "cell_type": "code",
   "execution_count": 1,
   "id": "872a15d4-1837-4b29-acee-f755659727e9",
   "metadata": {},
   "outputs": [
    {
     "name": "stderr",
     "output_type": "stream",
     "text": [
      "2024-09-04 17:35:01.899103: I tensorflow/core/platform/cpu_feature_guard.cc:210] This TensorFlow binary is optimized to use available CPU instructions in performance-critical operations.\n",
      "To enable the following instructions: AVX2 AVX512F FMA, in other operations, rebuild TensorFlow with the appropriate compiler flags.\n",
      "2024-09-04 17:35:07.764501: W tensorflow/compiler/tf2tensorrt/utils/py_utils.cc:38] TF-TRT Warning: Could not find TensorRT\n"
     ]
    }
   ],
   "source": [
    "# Import libraries\n",
    "import tensorflow as tf\n",
    "import numpy as np\n",
    "\n",
    "import matplotlib\n",
    "matplotlib.rcParams['text.usetex'] = True\n",
    "import matplotlib.pyplot as plt\n",
    "\n",
    "tf.compat.v1.disable_eager_execution()"
   ]
  },
  {
   "cell_type": "code",
   "execution_count": 2,
   "id": "01f1d308-b244-404f-88f8-05a374089690",
   "metadata": {},
   "outputs": [],
   "source": [
    "def split(word):\n",
    "    return [int(char) for char in word]"
   ]
  },
  {
   "cell_type": "code",
   "execution_count": 3,
   "id": "f464c71f-9ccd-4d7b-9e5f-4fbf0bbb13ed",
   "metadata": {},
   "outputs": [],
   "source": [
    "def get_input_data(bit_num = 3):\n",
    "    \n",
    "    #bit_num = 4\n",
    "    size = 2**bit_num\n",
    "    list_ = []\n",
    "\n",
    "    for num in range(size):\n",
    "        temp = format(num, '0'+str(bit_num) +'b')\n",
    "        list_.append(\n",
    "            np.array(split(temp)).reshape((1,bit_num))\n",
    "        )\n",
    "    return np.concatenate(list_)"
   ]
  },
  {
   "cell_type": "code",
   "execution_count": 4,
   "id": "275dd83a-934e-4a02-97e4-9e2a4a9dffb3",
   "metadata": {},
   "outputs": [],
   "source": [
    "def placeholders(dim_x, dim_y):\n",
    "\n",
    "    xf = tf.compat.v1.placeholder(tf.float32, [None, dim_x], name = 'ax_f')\n",
    "    yf = tf.compat.v1.placeholder(tf.float32, [None, dim_y], name = 'ay_f')\n",
    "\n",
    "    xb = tf.compat.v1.placeholder(tf.float32, [None, dim_x], name = 'ax_b')\n",
    "    yb = tf.compat.v1.placeholder(tf.float32, [None, dim_y], name = 'ay_b')\n",
    "\n",
    "    return xf, yf, xb, yb"
   ]
  },
  {
   "cell_type": "code",
   "execution_count": 7,
   "id": "2b4dbcf4-cc4f-4023-a63d-8b6d6defeab5",
   "metadata": {},
   "outputs": [],
   "source": [
    "def define_wgts(dim_x, dim_y, num_of_hidden):\n",
    "    \"\"\" \n",
    "    Initialize the weights for a network with one hidden layer\n",
    "    \"\"\"\n",
    "    \n",
    "    wgts = {}\n",
    "    wgts['U'] = tf.Variable(\n",
    "        tf.compat.v1.random_normal(\n",
    "            [dim_x, num_of_hidden], stddev = 0.03)\n",
    "    )\n",
    "    wgts['W'] = tf.Variable(\n",
    "        tf.compat.v1.random_normal(\n",
    "            [dim_y, num_of_hidden], stddev = 0.03)\n",
    "    )\n",
    "    return wgts"
   ]
  },
  {
   "cell_type": "code",
   "execution_count": 8,
   "id": "ed50719f-a0ca-469c-9fcb-590c9bcd9783",
   "metadata": {},
   "outputs": [],
   "source": [
    "# Forward Pass\n",
    "def define_bidirectinal_pass(wgts, xf, yf, xb, yb):\n",
    "\n",
    "    with tf.device('/device:CPU:0'):\n",
    "        ah_f = tf.nn.sigmoid(2*tf.matmul(xf, wgts['U']))\n",
    "        oy_f = tf.matmul(ah_f, tf.transpose(wgts['W']))\n",
    "        ay_f = oy_f\n",
    "\n",
    "        # Backward Pass\n",
    "        ah_b = tf.nn.sigmoid(2*tf.matmul(y_b, wgts['W']))\n",
    "        ox_b = tf.matmul(ah_b, tf.transpose(wgts['U']))\n",
    "        ax_b = ox_b\n",
    "\n",
    "    return ay_f, ax_b"
   ]
  },
  {
   "cell_type": "code",
   "execution_count": null,
   "id": "d4a97d00-2f6e-49cd-bdb1-c8f18e88cc3b",
   "metadata": {},
   "outputs": [],
   "source": []
  }
 ],
 "metadata": {
  "kernelspec": {
   "display_name": "Python 3.9.2_v1",
   "language": "python",
   "name": "py392"
  },
  "language_info": {
   "codemirror_mode": {
    "name": "ipython",
    "version": 3
   },
   "file_extension": ".py",
   "mimetype": "text/x-python",
   "name": "python",
   "nbconvert_exporter": "python",
   "pygments_lexer": "ipython3",
   "version": "3.9.2"
  }
 },
 "nbformat": 4,
 "nbformat_minor": 5
}
