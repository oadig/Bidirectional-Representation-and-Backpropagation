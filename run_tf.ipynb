{
 "cells": [
  {
   "cell_type": "markdown",
   "id": "9ee256d5-e7cf-47e5-875d-da059e8768d9",
   "metadata": {},
   "source": [
    "## Bidirectional Neural Representation"
   ]
  },
  {
   "cell_type": "markdown",
   "id": "3f130527-3553-498e-9491-6b8e6110ce4b",
   "metadata": {},
   "source": [
    "A bidirectional network runs in both forward and backward directions. The forward pass propagates signals from the input layer through the hidden layer to the output layer. Backward pass propagates signals from the output layer through the hidden layer to the input layer. Bidirectional training jointly optimizes the directional errors: forward error $E_f$ and backward error $E_b$.\n",
    "\n",
    "\n",
    "\n",
    "This illustrates the bidirectional representation and learning capability\n",
    "of a single hidden-layer network.\n",
    "The network learns the bidirectional representation over binary and bipolar \n",
    "permutation functions.\n",
    "\n",
    "Bipolar permutation function $f: \\{-1,1\\}^n \\rightarrow \\{-1, 1\\}^n$. Binary permutation function $f : \\{0,1\\}^n \\rightarrow \\{0, 1\\}^n$\n",
    "\n",
    "This code applies to two cases of 3-bit and 4-bit permutation functions."
   ]
  },
  {
   "cell_type": "code",
   "execution_count": 1,
   "id": "e840d94e-460e-4844-baa9-6af633f5f6c7",
   "metadata": {},
   "outputs": [
    {
     "name": "stderr",
     "output_type": "stream",
     "text": [
      "2024-09-04 00:27:17.355469: I tensorflow/core/platform/cpu_feature_guard.cc:210] This TensorFlow binary is optimized to use available CPU instructions in performance-critical operations.\n",
      "To enable the following instructions: AVX2 AVX512F FMA, in other operations, rebuild TensorFlow with the appropriate compiler flags.\n",
      "2024-09-04 00:27:18.366296: W tensorflow/compiler/tf2tensorrt/utils/py_utils.cc:38] TF-TRT Warning: Could not find TensorRT\n"
     ]
    }
   ],
   "source": [
    "# Import libraries\n",
    "import tensorflow as tf\n",
    "import numpy as np\n",
    "\n",
    "import matplotlib\n",
    "matplotlib.rcParams['text.usetex'] = True\n",
    "import matplotlib.pyplot as plt\n",
    "\n",
    "tf.compat.v1.disable_eager_execution()"
   ]
  },
  {
   "cell_type": "code",
   "execution_count": 2,
   "id": "3f9d1580-99f7-4d31-84be-5c499baf8be5",
   "metadata": {},
   "outputs": [],
   "source": [
    "# 3-bit and 4-bit bipolar permutation\n",
    "def get_data(data_type = \"3_bits\"):\n",
    "    \"\"\"\n",
    "    Generate the training dataset for a pre-defined \n",
    "    3-bit or 4-bit permutation function\n",
    "    \"\"\"\n",
    "    \n",
    "    if data_type == \"3_bits\":\n",
    "        x = np.array([\n",
    "            [1,1,1], [1,1,-1], [1,-1,1], [1,-1,-1],\n",
    "            [-1,1,1], [-1,1,-1], [-1,-1,1], [-1,-1,-1]])\n",
    "        y = x[[6,4,2,0,7,5,3,1]]      \n",
    "    elif data_type == \"4_bits\":\n",
    "        x = np.array([\n",
    "            [-1,-1,-1,-1],[-1,-1,-1,1],[-1,-1,1,-1],[-1,-1,1,1],\n",
    "            [-1,1,-1,-1],[-1,1,-1,1],[-1,1,1,-1],[-1,1,1,1],\n",
    "            [1,-1,-1,-1],[1,-1,-1,1],[1,-1,1,-1],[1,-1,1,1],\n",
    "            [1,1,-1,-1],[1,1,-1,1],[1,1,1,-1],[1,1,1,1]])\n",
    "        y = x[[12, 14, 15, 13, 9, 5, 8, 4, 11, 7, 10, 6, 2, 0, 1, 3]]\n",
    "    else:\n",
    "        raise ValueError(\"Wrong input!!! Data type should be 3_bits or 4_bits\")\n",
    "    return x, y"
   ]
  },
  {
   "cell_type": "markdown",
   "id": "5b686bae-8a32-4299-bf27-a7c433f640cc",
   "metadata": {},
   "source": [
    "#### Define the model and training parameters"
   ]
  },
  {
   "cell_type": "code",
   "execution_count": 3,
   "id": "8ea03257-5e9c-4b76-afbb-4a64a4870448",
   "metadata": {},
   "outputs": [],
   "source": [
    "data_type = \"4_bits\"  # \"4_bit\"\n",
    "num_hidden_neurons = 5\n",
    "mode = 'bipolar'  # \"bipolar\"\n",
    "num_epochs = 5000\n",
    "train_mode = \"bidirectional\" # [\"forward\", \"backward\", \"bidirectional\"] "
   ]
  },
  {
   "cell_type": "code",
   "execution_count": 4,
   "id": "f0d9c2f3-f3ed-4bed-81f9-71a569096234",
   "metadata": {},
   "outputs": [],
   "source": [
    "X, Y = get_data(data_type)\n",
    "if mode == 'binary':\n",
    "  X = 0.5 * (X+1)\n",
    "  Y = 0.5 * (Y+1)"
   ]
  },
  {
   "cell_type": "markdown",
   "id": "a745c2e3-eb14-4be9-a7c8-18108a296f3a",
   "metadata": {},
   "source": [
    "#### One hidden layer network: Input layer <--> Hidden Layer <--> Output Layer"
   ]
  },
  {
   "cell_type": "code",
   "execution_count": 5,
   "id": "0e8a3aca-e5f6-44b1-8ccc-6292f17d92e2",
   "metadata": {},
   "outputs": [],
   "source": [
    "## Define the Placeholders !!!\n",
    "xf = tf.compat.v1.placeholder(tf.float32, [None, X.shape[1]], name = 'input_forward')\n",
    "yf = tf.compat.v1.placeholder(tf.float32, [None, Y.shape[1]], name = 'target_forward')\n",
    "\n",
    "xb = tf.compat.v1.placeholder(tf.float32, [None, X.shape[1]], name = 'input_backward')\n",
    "yb = tf.compat.v1.placeholder(tf.float32, [None, Y.shape[1]], name = 'target_backward')"
   ]
  },
  {
   "cell_type": "code",
   "execution_count": 6,
   "id": "45fcd3c1-6f84-4c42-b175-adf933b35db5",
   "metadata": {},
   "outputs": [],
   "source": [
    "## Initialize weight\n",
    "wgts = {}\n",
    "wgts['U'] = tf.Variable(tf.compat.v1.random_normal([X.shape[1], num_hidden_neurons], stddev = 1.0))\n",
    "wgts['W'] = tf.Variable(tf.compat.v1.random_normal([Y.shape[1], num_hidden_neurons], stddev = 1.0))"
   ]
  },
  {
   "cell_type": "code",
   "execution_count": 7,
   "id": "6e9d1559-7939-4f60-a7f8-cb5c8df7e5cc",
   "metadata": {},
   "outputs": [],
   "source": [
    "# Forward Pass\n",
    "ah_f = tf.nn.sigmoid(tf.matmul(xf, wgts['U']))\n",
    "oy_f = tf.matmul(ah_f, tf.transpose(wgts['W']))\n",
    "ay_f = oy_f\n",
    "\n",
    "# Backward Pass\n",
    "ah_b = tf.nn.sigmoid(tf.matmul(yb, wgts['W']))\n",
    "ox_b = tf.matmul(ah_b, tf.transpose(wgts['U']))\n",
    "ax_b = ox_b"
   ]
  },
  {
   "cell_type": "code",
   "execution_count": 8,
   "id": "8137d894-71e8-4e1a-b3db-39c8be74bd62",
   "metadata": {},
   "outputs": [],
   "source": [
    "# Define the loss function and optimizer\n",
    "with tf.device('/device:CPU:0'):\n",
    "  if mode == \"binary\":\n",
    "    loss_f = tf.reduce_mean(\n",
    "        tf.nn.sigmoid_cross_entropy_with_logits(labels = yf, logits =  ay_f))\n",
    "    loss_b = tf.reduce_mean(\n",
    "        tf.nn.sigmoid_cross_entropy_with_logits(labels = xb, logits =  ax_b))\n",
    "  \n",
    "  elif mode == \"bipolar\":\n",
    "    yf_ = 0.5 * (yf + 1.0)\n",
    "    xb_ = 0.5 * (xb + 1.0)\n",
    "    loss_f = tf.reduce_mean(\n",
    "        tf.maximum(2*ay_f, 0)-(2*ay_f*yf_) + tf.math.log(1 + tf.exp(-tf.abs(2*ay_f)))\n",
    "        )\n",
    "    loss_b = tf.reduce_mean(\n",
    "        tf.maximum(2*ax_b, 0)-(2*ax_b*xb_) + tf.math.log(1 + tf.exp(-tf.abs(2*ax_b)))\n",
    "        )\n",
    "\n",
    "  if train_mode == \"bidirectional\":\n",
    "      loss = loss_f + loss_b\n",
    "  elif train_mode == \"forward\":\n",
    "      loss = loss_f\n",
    "  elif train_mode == \"backward\":\n",
    "      loss = loss_b\n",
    "    \n",
    "  optimizer = tf.compat.v1.train.GradientDescentOptimizer(\n",
    "        learning_rate = 0.5).minimize(loss)"
   ]
  },
  {
   "cell_type": "code",
   "execution_count": 9,
   "id": "816fbcea-9980-4b39-a72d-893495b9da98",
   "metadata": {},
   "outputs": [
    {
     "name": "stderr",
     "output_type": "stream",
     "text": [
      "2024-09-04 00:27:21.118890: W tensorflow/core/common_runtime/gpu/gpu_device.cc:2251] Cannot dlopen some GPU libraries. Please make sure the missing libraries mentioned above are installed properly if you would like to use GPU. Follow the guide at https://www.tensorflow.org/install/gpu for how to download and setup the required libraries for your platform.\n",
      "Skipping registering GPU devices...\n",
      "2024-09-04 00:27:21.126732: I tensorflow/compiler/mlir/mlir_graph_optimization_pass.cc:388] MLIR V1 optimization pass is not enabled\n"
     ]
    }
   ],
   "source": [
    "val_f = np.array([])\n",
    "val_b = np.array([])\n",
    "\n",
    "sess = tf.compat.v1.Session()\n",
    "sess.run(tf.compat.v1.global_variables_initializer())"
   ]
  },
  {
   "cell_type": "markdown",
   "id": "872bb202-dc67-4a2e-bfb2-39cf34234ebb",
   "metadata": {},
   "source": [
    "#### Training"
   ]
  },
  {
   "cell_type": "code",
   "execution_count": 10,
   "id": "d0ec0b0a-5896-47db-8349-68c65e646da8",
   "metadata": {},
   "outputs": [],
   "source": [
    "# Train the bidirectional network\n",
    "val_f = np.array([])\n",
    "val_b = np.array([])\n",
    "\n",
    "sess = tf.compat.v1.Session()\n",
    "sess.run(tf.compat.v1.global_variables_initializer())\n",
    "\n",
    "for idx in range(num_epochs + 1):\n",
    "\n",
    "  # Evaluate the model\n",
    "  if idx % 50 == 0:\n",
    "    ef, eb = sess.run([loss_f, loss_b],\n",
    "                        feed_dict= {xf: X, yf: Y, xb: X, yb: Y})\n",
    "    val_f = np.append(val_f, ef)\n",
    "    val_b = np.append(val_b, eb)\n",
    "\n",
    "  # Update the weights\n",
    "  sess.run(optimizer, feed_dict= {xf: X, yf: Y, xb: X, yb: Y})"
   ]
  },
  {
   "cell_type": "markdown",
   "id": "1d017307-012b-45f9-ba82-c9ac41dbe04d",
   "metadata": {},
   "source": [
    "#### Evaluation"
   ]
  },
  {
   "cell_type": "code",
   "execution_count": 11,
   "id": "3b28225f-809e-41e6-8133-396034db3e9b",
   "metadata": {},
   "outputs": [],
   "source": [
    "# Evaluate the model\n",
    "pred_y, pred_x= sess.run([ay_f, ax_b],\n",
    "                         feed_dict= {xf: X, yf: Y, xb: X, yb: Y})"
   ]
  },
  {
   "cell_type": "code",
   "execution_count": 12,
   "id": "3b9b1364-e85b-4700-9b76-957d6fcb117c",
   "metadata": {},
   "outputs": [],
   "source": [
    "pred_y = (pred_y >= 0).astype(float)\n",
    "pred_x = (pred_x >= 0).astype(float)\n",
    "if mode == \"bipolar\":\n",
    "  pred_y = (2*pred_y) - 1\n",
    "  pred_x = (2*pred_x) - 1"
   ]
  },
  {
   "cell_type": "code",
   "execution_count": 13,
   "id": "8928d7a5-72c8-4cf5-b24b-646efa7e9a11",
   "metadata": {},
   "outputs": [
    {
     "data": {
      "text/plain": [
       "array([[0., 0., 0., 0.],\n",
       "       [0., 0., 0., 0.],\n",
       "       [0., 0., 0., 0.],\n",
       "       [0., 0., 0., 0.],\n",
       "       [0., 0., 0., 0.],\n",
       "       [0., 0., 0., 0.],\n",
       "       [0., 0., 0., 0.],\n",
       "       [0., 0., 0., 0.],\n",
       "       [0., 0., 0., 0.],\n",
       "       [0., 0., 0., 0.],\n",
       "       [0., 0., 0., 0.],\n",
       "       [0., 0., 0., 0.],\n",
       "       [0., 0., 0., 0.],\n",
       "       [0., 0., 0., 0.],\n",
       "       [0., 0., 0., 0.],\n",
       "       [0., 0., 0., 0.]])"
      ]
     },
     "execution_count": 13,
     "metadata": {},
     "output_type": "execute_result"
    }
   ],
   "source": [
    "# Forward Pass: Compute the approximation error\n",
    "X - pred_x"
   ]
  },
  {
   "cell_type": "code",
   "execution_count": 14,
   "id": "feb5c36f-841c-440b-bda4-398b1495b58e",
   "metadata": {},
   "outputs": [
    {
     "data": {
      "text/plain": [
       "array([[0., 0., 0., 0.],\n",
       "       [0., 0., 0., 0.],\n",
       "       [0., 0., 0., 0.],\n",
       "       [0., 0., 0., 0.],\n",
       "       [0., 0., 0., 0.],\n",
       "       [0., 0., 0., 0.],\n",
       "       [0., 0., 0., 0.],\n",
       "       [0., 0., 0., 0.],\n",
       "       [0., 0., 0., 0.],\n",
       "       [0., 0., 0., 0.],\n",
       "       [0., 0., 0., 0.],\n",
       "       [0., 0., 0., 0.],\n",
       "       [0., 0., 0., 0.],\n",
       "       [0., 0., 0., 0.],\n",
       "       [0., 0., 0., 0.],\n",
       "       [0., 0., 0., 0.]])"
      ]
     },
     "execution_count": 14,
     "metadata": {},
     "output_type": "execute_result"
    }
   ],
   "source": [
    "# Backward Pass: Compute the approximation error\n",
    "Y - pred_y"
   ]
  },
  {
   "cell_type": "markdown",
   "id": "cd6df861-97d5-46f1-a196-61a8592fdf00",
   "metadata": {},
   "source": [
    "#### Synaptic weights (Post-training)"
   ]
  },
  {
   "cell_type": "code",
   "execution_count": 15,
   "id": "7bd02f2d-7143-41a8-88bd-addaa2ef96b5",
   "metadata": {},
   "outputs": [
    {
     "data": {
      "text/plain": [
       "array([[ 8.673189 , -1.4582323,  1.2340934, -5.6414275],\n",
       "       [ 3.6626225,  3.573533 ,  7.6221933,  3.1802049],\n",
       "       [-8.508298 , -9.742829 ,  1.4747864,  3.7209563],\n",
       "       [-3.0890124,  8.22007  , -3.7812386, -5.402199 ],\n",
       "       [-0.5118655, -0.5260154, -6.050979 ,  4.352885 ]], dtype=float32)"
      ]
     },
     "execution_count": 15,
     "metadata": {},
     "output_type": "execute_result"
    }
   ],
   "source": [
    "sess.run(wgts['W']).T"
   ]
  },
  {
   "cell_type": "code",
   "execution_count": 16,
   "id": "748d517b-7f19-4325-a13a-f9d56f8a2191",
   "metadata": {},
   "outputs": [
    {
     "data": {
      "text/plain": [
       "array([[-5.4484286,  4.2676005,  9.791736 , -2.4999874, -6.130385 ],\n",
       "       [-3.7224166, -6.8921757,  5.909987 , -2.6612217,  6.492222 ],\n",
       "       [-2.6297529,  4.909919 , -4.6819186, -3.4712236,  5.7156305],\n",
       "       [-8.26706  ,  3.084792 , -0.2937859,  7.2725477, -1.4360185]],\n",
       "      dtype=float32)"
      ]
     },
     "execution_count": 16,
     "metadata": {},
     "output_type": "execute_result"
    }
   ],
   "source": [
    "sess.run(wgts['U'])"
   ]
  },
  {
   "cell_type": "code",
   "execution_count": 20,
   "id": "995a6ebd-c355-4bb9-a9c8-b37a4e14ab0d",
   "metadata": {},
   "outputs": [],
   "source": [
    "def plot_directional_error(error, label, color = \"blue\"):\n",
    "\n",
    "    plt.plot(np.arange(0,101), error,\n",
    "             lw =3, color =color, label= label + ' error ' r'$E_{f}(\\Theta)$')\n",
    "    plt.grid()\n",
    "    \n",
    "    plt.legend(fontsize = 14, loc = 'best')\n",
    "    plt.title(label + \" Pass\", fontsize = 18)\n",
    "    plt.xlabel(r'Training epoch', fontsize = 18)\n",
    "    plt.ylabel(\"Error\", fontsize = 18)\n",
    "    \n",
    "    plt.xlim(-0.5, 100)\n",
    "    plt.xticks([0,20,40,60,80,100], fontsize = 15)\n",
    "    #plt.savefig(label + \"_error.eps\",format='eps', bbox_inches=\"tight\")\n",
    "    plt.show()"
   ]
  },
  {
   "cell_type": "code",
   "execution_count": 21,
   "id": "7614b18f-383a-4c3f-a89e-119fa5659791",
   "metadata": {},
   "outputs": [
    {
     "data": {
      "image/png": "[encoded data removed]",
      "text/plain": [
       "<Figure size 432x288 with 1 Axes>"
      ]
     },
     "metadata": {
      "needs_background": "light"
     },
     "output_type": "display_data"
    }
   ],
   "source": [
    "plot_directional_error(error = val_f, label = \"Forward\", color = \"blue\")"
   ]
  },
  {
   "cell_type": "code",
   "execution_count": 22,
   "id": "58c1ce2c-3816-4b1d-a5fa-dd339cd5d3e8",
   "metadata": {},
   "outputs": [
    {
     "data": {
      "image/png": "[encoded data removed]",
      "text/plain": [
       "<Figure size 432x288 with 1 Axes>"
      ]
     },
     "metadata": {
      "needs_background": "light"
     },
     "output_type": "display_data"
    }
   ],
   "source": [
    "plot_directional_error(error = val_b, label = \"Backward\", color = \"red\")"
   ]
  },
  {
   "cell_type": "code",
   "execution_count": 23,
   "id": "01c65889-e0f3-49d5-a3c7-4498f5ef4524",
   "metadata": {},
   "outputs": [],
   "source": []
  },
  {
   "cell_type": "code",
   "execution_count": null,
   "id": "01d2a0c5-e8a6-4b0c-b61a-dcae9b443d1c",
   "metadata": {},
   "outputs": [],
   "source": []
  }
 ],
 "metadata": {
  "kernelspec": {
   "display_name": "Python 3.9.2_v1",
   "language": "python",
   "name": "py392"
  },
  "language_info": {
   "codemirror_mode": {
    "name": "ipython",
    "version": 3
   },
   "file_extension": ".py",
   "mimetype": "text/x-python",
   "name": "python",
   "nbconvert_exporter": "python",
   "pygments_lexer": "ipython3",
   "version": "3.9.2"
  }
 },
 "nbformat": 4,
 "nbformat_minor": 5
}
