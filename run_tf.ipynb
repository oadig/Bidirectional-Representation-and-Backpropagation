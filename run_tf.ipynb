{
 "cells": [
  {
   "cell_type": "markdown",
   "id": "9ee256d5-e7cf-47e5-875d-da059e8768d9",
   "metadata": {},
   "source": [
    "## Bidirectional Neural Representation:"
   ]
  },
  {
   "cell_type": "code",
   "execution_count": 1,
   "id": "e840d94e-460e-4844-baa9-6af633f5f6c7",
   "metadata": {},
   "outputs": [
    {
     "name": "stderr",
     "output_type": "stream",
     "text": [
      "2024-09-03 00:04:19.631206: I tensorflow/core/platform/cpu_feature_guard.cc:210] This TensorFlow binary is optimized to use available CPU instructions in performance-critical operations.\n",
      "To enable the following instructions: AVX2 FMA, in other operations, rebuild TensorFlow with the appropriate compiler flags.\n",
      "2024-09-03 00:04:20.683071: W tensorflow/compiler/tf2tensorrt/utils/py_utils.cc:38] TF-TRT Warning: Could not find TensorRT\n"
     ]
    }
   ],
   "source": [
    "# Import libraries\n",
    "import tensorflow as tf\n",
    "import numpy as np\n",
    "import matplotlib.pyplot as plt\n",
    "\n",
    "tf.compat.v1.disable_eager_execution()"
   ]
  },
  {
   "cell_type": "code",
   "execution_count": null,
   "id": "de05d88f-1426-4b43-be0b-58fc2eaa4b80",
   "metadata": {},
   "outputs": [],
   "source": []
  },
  {
   "cell_type": "markdown",
   "id": "74416dad-d250-4345-b4e2-7803be2ad698",
   "metadata": {},
   "source": [
    "##### Bipolar permutation function $f: \\{-1,1\\}^n \\rightarrow \\{-1, 1\\}^n$\n",
    "##### Binary permutation function $f : \\{0,1\\}^n \\rightarrow \\{0, 1\\}^n$"
   ]
  },
  {
   "cell_type": "code",
   "execution_count": 2,
   "id": "3f9d1580-99f7-4d31-84be-5c499baf8be5",
   "metadata": {},
   "outputs": [],
   "source": [
    "# 3-bit and 4-bit bipolar permutation\n",
    "def get_data(data_type = \"3_bits\"):\n",
    "    \"\"\"\n",
    "    Generate the training dataset for a pre-defined \n",
    "    3-bit or 4-bit permutation function\n",
    "    \"\"\"\n",
    "    \n",
    "    if data_type == \"3_bits\":\n",
    "        x = np.array([\n",
    "            [1,1,1], [1,1,-1], [1,-1,1], [1,-1,-1],\n",
    "            [-1,1,1], [-1,1,-1], [-1,-1,1], [-1,-1,-1]])\n",
    "        y = x[[6,4,2,0,7,5,3,1]]      \n",
    "    elif data_type == \"4_bits\":\n",
    "        x = np.array([\n",
    "            [-1,-1,-1,-1],[-1,-1,-1,1],[-1,-1,1,-1],[-1,-1,1,1],\n",
    "            [-1,1,-1,-1],[-1,1,-1,1],[-1,1,1,-1],[-1,1,1,1],\n",
    "            [1,-1,-1,-1],[1,-1,-1,1],[1,-1,1,-1],[1,-1,1,1],\n",
    "            [1,1,-1,-1],[1,1,-1,1],[1,1,1,-1],[1,1,1,1]])\n",
    "        y = x[[12, 14, 15, 13, 9, 5, 8, 4, 11, 7, 10, 6, 2, 0, 1, 3]]\n",
    "    else:\n",
    "        raise ValueError(\"Wrong input!!! Data type should be 3_bits or 4_bits\")\n",
    "    return x, y"
   ]
  },
  {
   "cell_type": "code",
   "execution_count": 3,
   "id": "8ea03257-5e9c-4b76-afbb-4a64a4870448",
   "metadata": {},
   "outputs": [],
   "source": [
    "data_type = \"3_bits\"  # \"4_bit\"\n",
    "num_hidden_neurons = 4\n",
    "mode = 'binary'  # \"bipolar\""
   ]
  },
  {
   "cell_type": "code",
   "execution_count": 4,
   "id": "f0d9c2f3-f3ed-4bed-81f9-71a569096234",
   "metadata": {},
   "outputs": [],
   "source": [
    "X, Y = get_data(data_type)\n",
    "if mode == 'binary':\n",
    "  X = 0.5 * (X+1)\n",
    "  Y = 0.5 * (Y+1)"
   ]
  },
  {
   "cell_type": "markdown",
   "id": "a745c2e3-eb14-4be9-a7c8-18108a296f3a",
   "metadata": {},
   "source": [
    "###### Network Architecture: Input layer <--> Hidden Layer <--> Output Layer"
   ]
  },
  {
   "cell_type": "code",
   "execution_count": 7,
   "id": "0e8a3aca-e5f6-44b1-8ccc-6292f17d92e2",
   "metadata": {},
   "outputs": [],
   "source": [
    "## Define the Placeholders !!!\n",
    "x_f = tf.compat.v1.placeholder(tf.float32, [None, X.shape[1]], name = 'input_forward')\n",
    "y_f = tf.compat.v1.placeholder(tf.float32, [None, Y.shape[1]], name = 'target_forward')\n",
    "\n",
    "x_b = tf.compat.v1.placeholder(tf.float32, [None, X.shape[1]], name = 'input_backward')\n",
    "y_b = tf.compat.v1.placeholder(tf.float32, [None, Y.shape[1]], name = 'target_backward')"
   ]
  },
  {
   "cell_type": "code",
   "execution_count": 9,
   "id": "45fcd3c1-6f84-4c42-b175-adf933b35db5",
   "metadata": {},
   "outputs": [],
   "source": [
    "## Initialize weight\n",
    "wgts = {}\n",
    "wgts['U'] = tf.Variable(\n",
    "    tf.compat.v1.random_normal(\n",
    "        [X.shape[1], num_hidden_neurons], \n",
    "        stddev = 1.0)\n",
    "    )\n",
    "wgts['W'] = tf.Variable(\n",
    "    tf.compat.v1.random_normal(\n",
    "        [Y.shape[1], num_hidden_neurons], \n",
    "        stddev = 1.0)\n",
    "    )"
   ]
  },
  {
   "cell_type": "code",
   "execution_count": null,
   "id": "6e9d1559-7939-4f60-a7f8-cb5c8df7e5cc",
   "metadata": {},
   "outputs": [],
   "source": []
  }
 ],
 "metadata": {
  "kernelspec": {
   "display_name": "Python 3.9.2_v1",
   "language": "python",
   "name": "py392"
  },
  "language_info": {
   "codemirror_mode": {
    "name": "ipython",
    "version": 3
   },
   "file_extension": ".py",
   "mimetype": "text/x-python",
   "name": "python",
   "nbconvert_exporter": "python",
   "pygments_lexer": "ipython3",
   "version": "3.9.2"
  }
 },
 "nbformat": 4,
 "nbformat_minor": 5
}
